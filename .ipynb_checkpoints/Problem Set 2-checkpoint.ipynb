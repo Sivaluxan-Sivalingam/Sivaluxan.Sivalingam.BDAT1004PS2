{
 "cells": [
  {
   "cell_type": "markdown",
   "id": "e2760607",
   "metadata": {},
   "source": [
    "## Problem Set 2"
   ]
  },
  {
   "cell_type": "markdown",
   "id": "aa890a0f",
   "metadata": {},
   "source": [
    "### Question 1"
   ]
  },
  {
   "cell_type": "code",
   "execution_count": 1,
   "id": "0847b37b",
   "metadata": {},
   "outputs": [],
   "source": [
    "a = 0\n",
    "def b():\n",
    "    global a\n",
    "    a = c(a)\n",
    "def c(a):\n",
    "    return a + 2"
   ]
  },
  {
   "cell_type": "code",
   "execution_count": 2,
   "id": "f2fb051b",
   "metadata": {},
   "outputs": [],
   "source": [
    "b()"
   ]
  },
  {
   "cell_type": "code",
   "execution_count": 3,
   "id": "5a03a89d",
   "metadata": {},
   "outputs": [],
   "source": [
    "b()\n"
   ]
  },
  {
   "cell_type": "code",
   "execution_count": 4,
   "id": "2fc18833",
   "metadata": {},
   "outputs": [],
   "source": [
    "b()\n"
   ]
  },
  {
   "cell_type": "code",
   "execution_count": 5,
   "id": "06f58e26",
   "metadata": {},
   "outputs": [
    {
     "data": {
      "text/plain": [
       "6"
      ]
     },
     "execution_count": 5,
     "metadata": {},
     "output_type": "execute_result"
    }
   ],
   "source": [
    "a"
   ]
  },
  {
   "cell_type": "markdown",
   "id": "7438e996",
   "metadata": {},
   "source": [
    "When b() is called first time, c(a) is called with a=0 and c(a) returns 0+2, a is updated to 2.\n",
    "\n",
    "When b() is called second time, c(a) is called with a=2 and c(a) returns 2+2, a is updated to 4.\n",
    "\n",
    "When b() is called third time, c(a) is called with a=4 and c(a) returns 4+2, a is updated to 6.\n",
    "\n",
    "So a returns 6 as output."
   ]
  },
  {
   "cell_type": "markdown",
   "id": "d998ad04",
   "metadata": {},
   "source": [
    "### Question 2"
   ]
  },
  {
   "cell_type": "code",
   "execution_count": 6,
   "id": "e8d75103",
   "metadata": {},
   "outputs": [],
   "source": [
    "def fileLength(file_name):\n",
    "    file = open(file_name, 'r') #open file in read mode\n",
    "    content = file.read() # read contents of file\n",
    "    file_length = len(content)  # length of contents\n",
    "    file.close() #close file\n",
    "    return file_length\n",
    "    "
   ]
  },
  {
   "cell_type": "code",
   "execution_count": 7,
   "id": "78078607",
   "metadata": {},
   "outputs": [
    {
     "data": {
      "text/plain": [
       "123"
      ]
     },
     "execution_count": 7,
     "metadata": {},
     "output_type": "execute_result"
    }
   ],
   "source": [
    "fileLength(\"Filelength.txt\")"
   ]
  },
  {
   "cell_type": "code",
   "execution_count": 8,
   "id": "4b1c3048",
   "metadata": {},
   "outputs": [
    {
     "ename": "FileNotFoundError",
     "evalue": "[Errno 2] No such file or directory: 'idterm.py'",
     "output_type": "error",
     "traceback": [
      "\u001b[0;31m---------------------------------------------------------------------------\u001b[0m",
      "\u001b[0;31mFileNotFoundError\u001b[0m                         Traceback (most recent call last)",
      "Input \u001b[0;32mIn [8]\u001b[0m, in \u001b[0;36m<cell line: 1>\u001b[0;34m()\u001b[0m\n\u001b[0;32m----> 1\u001b[0m \u001b[43mfileLength\u001b[49m\u001b[43m(\u001b[49m\u001b[38;5;124;43m\"\u001b[39;49m\u001b[38;5;124;43midterm.py\u001b[39;49m\u001b[38;5;124;43m\"\u001b[39;49m\u001b[43m)\u001b[49m\n",
      "Input \u001b[0;32mIn [6]\u001b[0m, in \u001b[0;36mfileLength\u001b[0;34m(file_name)\u001b[0m\n\u001b[1;32m      1\u001b[0m \u001b[38;5;28;01mdef\u001b[39;00m \u001b[38;5;21mfileLength\u001b[39m(file_name):\n\u001b[0;32m----> 2\u001b[0m     file \u001b[38;5;241m=\u001b[39m \u001b[38;5;28;43mopen\u001b[39;49m\u001b[43m(\u001b[49m\u001b[43mfile_name\u001b[49m\u001b[43m,\u001b[49m\u001b[43m \u001b[49m\u001b[38;5;124;43m'\u001b[39;49m\u001b[38;5;124;43mr\u001b[39;49m\u001b[38;5;124;43m'\u001b[39;49m\u001b[43m)\u001b[49m \u001b[38;5;66;03m#open file in read mode\u001b[39;00m\n\u001b[1;32m      3\u001b[0m     content \u001b[38;5;241m=\u001b[39m file\u001b[38;5;241m.\u001b[39mread() \u001b[38;5;66;03m# read contents of file\u001b[39;00m\n\u001b[1;32m      4\u001b[0m     file_length \u001b[38;5;241m=\u001b[39m \u001b[38;5;28mlen\u001b[39m(content)  \u001b[38;5;66;03m# length of contents\u001b[39;00m\n",
      "\u001b[0;31mFileNotFoundError\u001b[0m: [Errno 2] No such file or directory: 'idterm.py'"
     ]
    }
   ],
   "source": [
    "fileLength(\"idterm.py\")"
   ]
  },
  {
   "cell_type": "code",
   "execution_count": 9,
   "id": "4f32a06a",
   "metadata": {},
   "outputs": [],
   "source": [
    "def fileLength(file_name):\n",
    "    try:\n",
    "        file = open(file_name, 'r') #open file in read mode\n",
    "        content = file.read() # read contents of file\n",
    "        file_length = len(content) # length of contents\n",
    "        file.close() #close file\n",
    "        return file_length\n",
    "    except FileNotFoundError:\n",
    "        print(f\"File {file_name} not found.\")"
   ]
  },
  {
   "cell_type": "code",
   "execution_count": 10,
   "id": "72646cff",
   "metadata": {},
   "outputs": [
    {
     "data": {
      "text/plain": [
       "123"
      ]
     },
     "execution_count": 10,
     "metadata": {},
     "output_type": "execute_result"
    }
   ],
   "source": [
    "fileLength(\"Filelength.txt\")"
   ]
  },
  {
   "cell_type": "code",
   "execution_count": 11,
   "id": "d61a2de9",
   "metadata": {},
   "outputs": [
    {
     "name": "stdout",
     "output_type": "stream",
     "text": [
      "File idterm.py not found.\n"
     ]
    }
   ],
   "source": [
    "fileLength(\"idterm.py\")"
   ]
  },
  {
   "cell_type": "markdown",
   "id": "8b4fe7cc",
   "metadata": {},
   "source": [
    "### Question 3"
   ]
  },
  {
   "cell_type": "code",
   "execution_count": 12,
   "id": "85a1f23b",
   "metadata": {},
   "outputs": [],
   "source": [
    "#define class Marsupial\n",
    "class Marsupial:\n",
    "    #constructor - create empty self.pouch list\n",
    "    def __init__(self):\n",
    "        self.pouch = []\n",
    "    #function to take item as input argument and append to list\n",
    "    def put_in_pouch(self, item):\n",
    "        self.pouch.append(item)\n",
    "    \n",
    "    #function to return list\n",
    "    def pouch_contents(self):\n",
    "        return self.pouch"
   ]
  },
  {
   "cell_type": "code",
   "execution_count": 13,
   "id": "75d1b63f",
   "metadata": {},
   "outputs": [
    {
     "data": {
      "text/plain": [
       "['doll', 'firetruck', 'kitten']"
      ]
     },
     "execution_count": 13,
     "metadata": {},
     "output_type": "execute_result"
    }
   ],
   "source": [
    "m = Marsupial() #create instance of class\n",
    "m.put_in_pouch('doll') # append 'doll'\n",
    "m.put_in_pouch('firetruck')  #append 'firetruck'\n",
    "m.put_in_pouch('kitten') #append 'kitten'\n",
    "m.pouch_contents() "
   ]
  },
  {
   "cell_type": "code",
   "execution_count": 14,
   "id": "0b131213",
   "metadata": {},
   "outputs": [],
   "source": [
    "#class kangaroo which inherits all attributes and methods of Marsupial\n",
    "class Kangaroo(Marsupial):\n",
    "    #__init__ method takes optional parameters x,y  \n",
    "    def __init__(self, x=0, y=0):\n",
    "        super().__init__() #call __init__ method of Marsupial class \n",
    "        #set x and y coordinates\n",
    "        self.x = x\n",
    "        self.y = y\n",
    "    #jump method updates x and y using dx and dy\n",
    "    def jump(self, dx, dy):\n",
    "        self.x += dx\n",
    "        self.y += dy\n",
    "    #string method to return Kangaroo locartion\n",
    "    def __str__(self):\n",
    "        return \"I am a Kangaroo located at coordinates ({}, {})\".format(self.x, self.y)"
   ]
  },
  {
   "cell_type": "code",
   "execution_count": 15,
   "id": "b7e678ce",
   "metadata": {},
   "outputs": [
    {
     "name": "stdout",
     "output_type": "stream",
     "text": [
      "I am a Kangaroo located at coordinates (0, 0)\n"
     ]
    }
   ],
   "source": [
    "k = Kangaroo(0,0)\n",
    "print(k)"
   ]
  },
  {
   "cell_type": "code",
   "execution_count": 16,
   "id": "7ca05ea3",
   "metadata": {},
   "outputs": [
    {
     "data": {
      "text/plain": [
       "['doll', 'firetruck', 'kitten']"
      ]
     },
     "execution_count": 16,
     "metadata": {},
     "output_type": "execute_result"
    }
   ],
   "source": [
    "k.put_in_pouch('doll')\n",
    "k.put_in_pouch('firetruck')\n",
    "k.put_in_pouch('kitten')\n",
    "k.pouch_contents()"
   ]
  },
  {
   "cell_type": "code",
   "execution_count": 17,
   "id": "18c5cc62",
   "metadata": {},
   "outputs": [
    {
     "name": "stdout",
     "output_type": "stream",
     "text": [
      "I am a Kangaroo located at coordinates (3, 0)\n"
     ]
    }
   ],
   "source": [
    "k.jump(1,0)\n",
    "k.jump(1,0)\n",
    "k.jump(1,0)\n",
    "print(k)"
   ]
  },
  {
   "cell_type": "markdown",
   "id": "033c773f",
   "metadata": {},
   "source": [
    "### Question 4"
   ]
  },
  {
   "cell_type": "code",
   "execution_count": 18,
   "id": "b5422da8",
   "metadata": {},
   "outputs": [],
   "source": [
    "def collatz(x):\n",
    "    print(x)\n",
    "    #check if x is equal to 1\n",
    "    if x == 1:\n",
    "        return\n",
    "    #check remainder x is divided by 2 is equal to 0\n",
    "    elif x % 2 == 0:\n",
    "        #call collatz using x//2 as input parameter\n",
    "        collatz(x // 2)\n",
    "    #if remainder is not equal to zero or x is not equal to 0\n",
    "    else:\n",
    "        #call collatz using 3*x+1 as input parameter\n",
    "        collatz(3 * x + 1)"
   ]
  },
  {
   "cell_type": "code",
   "execution_count": 19,
   "id": "c5369e6e",
   "metadata": {},
   "outputs": [
    {
     "name": "stdout",
     "output_type": "stream",
     "text": [
      "1\n"
     ]
    }
   ],
   "source": [
    "collatz(1)"
   ]
  },
  {
   "cell_type": "code",
   "execution_count": 20,
   "id": "17dda71f",
   "metadata": {},
   "outputs": [
    {
     "name": "stdout",
     "output_type": "stream",
     "text": [
      "10\n",
      "5\n",
      "16\n",
      "8\n",
      "4\n",
      "2\n",
      "1\n"
     ]
    }
   ],
   "source": [
    "collatz(10)"
   ]
  },
  {
   "cell_type": "markdown",
   "id": "675a5eff",
   "metadata": {},
   "source": [
    "### Question 5"
   ]
  },
  {
   "cell_type": "code",
   "execution_count": 21,
   "id": "5a2e96e5",
   "metadata": {},
   "outputs": [],
   "source": [
    "def binary(n):\n",
    "    #check if number is positive\n",
    "    if n<0:\n",
    "        print(\"Enter the positive number\")\n",
    "    #if number is positive and greater than 1\n",
    "    elif n > 1:\n",
    "        #call binary using n//2 as input parameter\n",
    "        binary(n // 2)\n",
    "    print(n % 2, end='')\n",
    "  "
   ]
  },
  {
   "cell_type": "code",
   "execution_count": 22,
   "id": "1db83a71",
   "metadata": {},
   "outputs": [
    {
     "name": "stdout",
     "output_type": "stream",
     "text": [
      "0"
     ]
    }
   ],
   "source": [
    "binary(0)"
   ]
  },
  {
   "cell_type": "code",
   "execution_count": 23,
   "id": "d25a2267",
   "metadata": {},
   "outputs": [
    {
     "name": "stdout",
     "output_type": "stream",
     "text": [
      "1"
     ]
    }
   ],
   "source": [
    "binary(1)"
   ]
  },
  {
   "cell_type": "code",
   "execution_count": 24,
   "id": "1d674b21",
   "metadata": {},
   "outputs": [
    {
     "name": "stdout",
     "output_type": "stream",
     "text": [
      "11"
     ]
    }
   ],
   "source": [
    "binary(3)"
   ]
  },
  {
   "cell_type": "code",
   "execution_count": 25,
   "id": "4179c44f",
   "metadata": {},
   "outputs": [
    {
     "name": "stdout",
     "output_type": "stream",
     "text": [
      "1001"
     ]
    }
   ],
   "source": [
    "binary(9)"
   ]
  },
  {
   "cell_type": "markdown",
   "id": "133ebf9f",
   "metadata": {},
   "source": [
    "### Question 6"
   ]
  },
  {
   "cell_type": "code",
   "execution_count": 26,
   "id": "2b6d5699",
   "metadata": {},
   "outputs": [],
   "source": [
    "from html.parser import HTMLParser\n",
    "\n",
    "#define HeadingParser Class which inherits all attributes and methods from HTMLParser\n",
    "class HeadingParser(HTMLParser):\n",
    "    #Constructor\n",
    "    def __init__(self):\n",
    "        super().__init__()\n",
    "        self.in_heading = False #flag if inside heading\n",
    "        self.heading_level = 0 #level of current heading\n",
    "    #method is called when there is start tag\n",
    "    def handle_starttag(self, tag, attrs):\n",
    "        #check tag starts with 'h' and after containing digit\n",
    "        if tag.startswith('h') and tag[1:].isdigit():\n",
    "            self.in_heading = True  #set flag which is currently inside heading\n",
    "            self.heading_level = int(tag[1:]) - 1 #set the heading level \n",
    "    #method is called when there is end tag\n",
    "    def handle_endtag(self, tag):\n",
    "        #check tag starts with 'h' and after containing digit\n",
    "        if tag.startswith('h') and tag[1:].isdigit():\n",
    "            self.in_heading = False #flag to indicate not inside heading anymore\n",
    "    #method is called when there is text inside \n",
    "    def handle_data(self, data):\n",
    "        #check if currently inside heading\n",
    "        if self.in_heading:\n",
    "            print(' ' * self.heading_level + data.strip()) #print text with indentation\n",
    "\n"
   ]
  },
  {
   "cell_type": "code",
   "execution_count": 27,
   "id": "cd2cdb82",
   "metadata": {},
   "outputs": [
    {
     "name": "stdout",
     "output_type": "stream",
     "text": [
      "W3C Mission\n",
      " Principles\n"
     ]
    }
   ],
   "source": [
    "infile = open('w3c.html') #open w3c.html file\n",
    "content = infile.read() #read all lines\n",
    "infile.close() #close file\n",
    "hp = HeadingParser()  #instance of HeadingParser\n",
    "hp.feed(content)"
   ]
  },
  {
   "cell_type": "markdown",
   "id": "3a9d97d1",
   "metadata": {},
   "source": [
    "### Question 7"
   ]
  },
  {
   "cell_type": "code",
   "execution_count": 28,
   "id": "6ba391f0",
   "metadata": {},
   "outputs": [],
   "source": [
    "#import libraries\n",
    "from urllib.request import urlopen\n",
    "from urllib.parse import urljoin\n",
    "from html.parser import HTMLParser\n",
    "\n",
    "#LinkParser class inherits all attributes and methods from HTML\n",
    "class LinkParser(HTMLParser):\n",
    "    #constructor\n",
    "    def __init__(self):\n",
    "        super().__init__()\n",
    "        self.links = [] #empty list\n",
    "    \n",
    "    #method for when there is start tag\n",
    "    def handle_starttag(self, tag, attrs):\n",
    "        if tag == 'a':\n",
    "            for attr in attrs:\n",
    "                #append href link to links list\n",
    "                if attr[0] == 'href':\n",
    "                    self.links.append(attr[1])\n",
    "#recusrsively visit web starting from given url within given depth and print\n",
    "def webdir(url, depth, indent=0):\n",
    "    print(' ' * indent + url)\n",
    "    #depth is equal to 0\n",
    "    if depth == 0:\n",
    "        return\n",
    "    #try block\n",
    "    try:\n",
    "        response = urlopen(url)\n",
    "        html = response.read().decode()\n",
    "        parser = LinkParser()\n",
    "        parser.feed(html)\n",
    "        #for loop and recursivelhy visit the web with reduce depth and increased indentation\n",
    "        for link in parser.links:\n",
    "            #if link is start with 'http'\n",
    "            if link.startswith('http'):\n",
    "                webdir(link, depth - 1, indent + 4)\n",
    "            #otherwise\n",
    "            else:\n",
    "                webdir(urljoin(url, link), depth - 1, indent + 4)\n",
    "    #except block if there is error\n",
    "    except Exception as e:\n",
    "        print(' ' * (indent + 4) + f\"Error: {e}\")\n",
    "\n"
   ]
  },
  {
   "cell_type": "code",
   "execution_count": 29,
   "id": "1490a015",
   "metadata": {},
   "outputs": [
    {
     "name": "stdout",
     "output_type": "stream",
     "text": [
      "http://reed.cs.depaul.edu/lperkovic/csc242/test1.html\n",
      "    Error: HTTP Error 404: \n"
     ]
    }
   ],
   "source": [
    "webdir('http://reed.cs.depaul.edu/lperkovic/csc242/test1.html', 2, 0)"
   ]
  },
  {
   "cell_type": "markdown",
   "id": "1c4e34b4",
   "metadata": {},
   "source": [
    "### Question 8\n",
    "\n",
    "SQL Queries"
   ]
  },
  {
   "cell_type": "code",
   "execution_count": null,
   "id": "12f6539c",
   "metadata": {},
   "outputs": [],
   "source": [
    "!pip install ipython-sql"
   ]
  },
  {
   "cell_type": "code",
   "execution_count": null,
   "id": "52661c12",
   "metadata": {},
   "outputs": [],
   "source": [
    "%load_ext sql"
   ]
  },
  {
   "cell_type": "code",
   "execution_count": null,
   "id": "0668ecbf",
   "metadata": {},
   "outputs": [],
   "source": [
    "#a. \n",
    "SELECT temperature FROM table_name;"
   ]
  },
  {
   "cell_type": "code",
   "execution_count": null,
   "id": "ab3652ed",
   "metadata": {},
   "outputs": [],
   "source": [
    "#b. \n",
    "SELECT DISTINCT city FROM table_name;"
   ]
  },
  {
   "cell_type": "code",
   "execution_count": null,
   "id": "161d53ee",
   "metadata": {},
   "outputs": [],
   "source": [
    "#c.\n",
    "SELECT * FROM table_name WHERE city='India';"
   ]
  },
  {
   "cell_type": "code",
   "execution_count": null,
   "id": "5c450c27",
   "metadata": {},
   "outputs": [],
   "source": [
    "#d. \n",
    "SELECT Rainfall FROM table_name;"
   ]
  },
  {
   "cell_type": "code",
   "execution_count": null,
   "id": "2b72ab63",
   "metadata": {},
   "outputs": [],
   "source": [
    "#e.\n",
    "SELECT city, country,season FROM table_name WHERE Rainfall BETWEEN 200 AND 400;"
   ]
  },
  {
   "cell_type": "code",
   "execution_count": null,
   "id": "e066bd73",
   "metadata": {},
   "outputs": [],
   "source": [
    "#f.\n",
    "SELECT city, country FROM table_name WHERE Temperature >20 ORDER BY Temperature;"
   ]
  },
  {
   "cell_type": "code",
   "execution_count": null,
   "id": "69ac8c90",
   "metadata": {},
   "outputs": [],
   "source": [
    "#g.\n",
    "SELECT SUM(Rainfall) FROM table_name WHERE city = 'Cairo';"
   ]
  },
  {
   "cell_type": "code",
   "execution_count": null,
   "id": "35310f96",
   "metadata": {},
   "outputs": [],
   "source": [
    "#h.\n",
    "SELECT Season, SUM(Rainfall)\n",
    "FROM table_name GROUP BY Season;\n"
   ]
  },
  {
   "cell_type": "markdown",
   "id": "3e8cc001",
   "metadata": {},
   "source": [
    "### Question 9"
   ]
  },
  {
   "cell_type": "code",
   "execution_count": 30,
   "id": "f3988950",
   "metadata": {},
   "outputs": [],
   "source": [
    "words = ['The', 'quick', 'brown', 'fox', 'jumps', 'over', 'the', 'lazy', 'dog']"
   ]
  },
  {
   "cell_type": "code",
   "execution_count": 31,
   "id": "beadbe5a",
   "metadata": {},
   "outputs": [
    {
     "data": {
      "text/plain": [
       "['THE', 'QUICK', 'BROWN', 'FOX', 'JUMPS', 'OVER', 'THE', 'LAZY', 'DOG']"
      ]
     },
     "execution_count": 31,
     "metadata": {},
     "output_type": "execute_result"
    }
   ],
   "source": [
    "#a\n",
    "words_upper = [x.upper() for x in words]\n",
    "words_upper"
   ]
  },
  {
   "cell_type": "code",
   "execution_count": 32,
   "id": "1c5cd3d2",
   "metadata": {},
   "outputs": [
    {
     "data": {
      "text/plain": [
       "['the', 'quick', 'brown', 'fox', 'jumps', 'over', 'the', 'lazy', 'dog']"
      ]
     },
     "execution_count": 32,
     "metadata": {},
     "output_type": "execute_result"
    }
   ],
   "source": [
    "#b\n",
    "words_lower = [x.lower() for x in words]\n",
    "words_lower\n"
   ]
  },
  {
   "cell_type": "code",
   "execution_count": 33,
   "id": "eaaba8c8",
   "metadata": {},
   "outputs": [
    {
     "data": {
      "text/plain": [
       "[3, 5, 5, 3, 5, 4, 3, 4, 3]"
      ]
     },
     "execution_count": 33,
     "metadata": {},
     "output_type": "execute_result"
    }
   ],
   "source": [
    "#c\n",
    "words_length = [len(x) for x in words]\n",
    "words_length"
   ]
  },
  {
   "cell_type": "code",
   "execution_count": 34,
   "id": "fe0b9267",
   "metadata": {},
   "outputs": [
    {
     "data": {
      "text/plain": [
       "[['THE', 'the', 3],\n",
       " ['QUICK', 'quick', 5],\n",
       " ['BROWN', 'brown', 5],\n",
       " ['FOX', 'fox', 3],\n",
       " ['JUMPS', 'jumps', 5],\n",
       " ['OVER', 'over', 4],\n",
       " ['THE', 'the', 3],\n",
       " ['LAZY', 'lazy', 4],\n",
       " ['DOG', 'dog', 3]]"
      ]
     },
     "execution_count": 34,
     "metadata": {},
     "output_type": "execute_result"
    }
   ],
   "source": [
    "#d\n",
    "nested_words_list=[[word.upper(), word.lower(), len(word)] for word in words]\n",
    "nested_words_list"
   ]
  },
  {
   "cell_type": "code",
   "execution_count": 35,
   "id": "c2227afa",
   "metadata": {},
   "outputs": [
    {
     "data": {
      "text/plain": [
       "['quick', 'brown', 'jumps', 'over', 'lazy']"
      ]
     },
     "execution_count": 35,
     "metadata": {},
     "output_type": "execute_result"
    }
   ],
   "source": [
    "#e\n",
    "words_4char = [word for word in words if len(word) >= 4]\n",
    "words_4char"
   ]
  },
  {
   "cell_type": "code",
   "execution_count": null,
   "id": "72db6be5",
   "metadata": {},
   "outputs": [],
   "source": []
  }
 ],
 "metadata": {
  "kernelspec": {
   "display_name": "Python 3 (ipykernel)",
   "language": "python",
   "name": "python3"
  },
  "language_info": {
   "codemirror_mode": {
    "name": "ipython",
    "version": 3
   },
   "file_extension": ".py",
   "mimetype": "text/x-python",
   "name": "python",
   "nbconvert_exporter": "python",
   "pygments_lexer": "ipython3",
   "version": "3.9.13"
  }
 },
 "nbformat": 4,
 "nbformat_minor": 5
}
